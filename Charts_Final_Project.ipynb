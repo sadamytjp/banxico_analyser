{
 "cells": [
  {
   "cell_type": "code",
   "execution_count": null,
   "metadata": {},
   "outputs": [],
   "source": [
    "#Tipo de Cambio vs Tasa de interés (la tasa, no el diferencial)\n",
    "title = f\"FX vs. Interest Rate\"\n",
    "plt.scatter(final_data[\"Tasa de Interés\"], final_data[\"Tipo de Cambio\"], marker = \"o\", color=\"blue\")\n",
    "plt.title(title, size=13)\n",
    "plt.xlabel(\"Interest Rate (%)\")\n",
    "plt.ylabel(\"FX (Pesos per dollar)\")\n",
    "plt.grid(True)\n",
    "plt.savefig(f\"{title}.png\")"
   ]
  },
  {
   "cell_type": "code",
   "execution_count": null,
   "metadata": {},
   "outputs": [],
   "source": [
    "#Aqui va como x \"inflacion\" (la del conteo, no la de los números) y el tipo de cambio\n",
    "\n",
    "title = \"Inflation counts vs. FX Regression\"\n",
    "x = final_data[\"inflación\"]\n",
    "y = final_data[\"Tipo de Cambio\"]\n",
    "(slope, intercept, rvalue, pvalue, stderr) = linregress(x, y)\n",
    "regress_values = x * slope + intercept\n",
    "line_eq = \"y = \" + str(round(slope,2)) + \"x + \" + str(round(intercept,2))\n",
    "plt.scatter(x,y)\n",
    "plt.plot(x,regress_values,\"r-\")\n",
    "plt.annotate(line_eq,(17,18.8),fontsize=15,color=\"red\")\n",
    "plt.title(title)\n",
    "plt.xlabel('Inflation counts')\n",
    "plt.ylabel(\"FX (pesos per dollar)\")\n",
    "plt.savefig(f\"{title}.png\")\n",
    "print(f\"The r-squared is: {rvalue}\")\n",
    "plt.show()"
   ]
  },
  {
   "cell_type": "code",
   "execution_count": null,
   "metadata": {},
   "outputs": [],
   "source": [
    "#Aqui va como x \"inflacion\" (la del conteo, no la de los números) y la tasa de interés (no el diferencial)\n",
    "title = \"Inflation counts vs. Interest Rate Regression\"\n",
    "x = final_data[\"inflación\"]\n",
    "y = final_data[\"Tasa de Interés\"]\n",
    "(slope, intercept, rvalue, pvalue, stderr) = linregress(x, y)\n",
    "regress_values = x * slope + intercept\n",
    "line_eq = \"y = \" + str(round(slope,2)) + \"x + \" + str(round(intercept,2))\n",
    "plt.scatter(x,y)\n",
    "plt.plot(x,regress_values,\"r-\")\n",
    "plt.annotate(line_eq,(20,7.7),fontsize=15,color=\"red\")\n",
    "plt.title(title)\n",
    "plt.xlabel('Inflation counts')\n",
    "plt.ylabel(\"Interest Rate (%)\")\n",
    "plt.savefig(f\"{title}.png\")\n",
    "print(f\"The r-squared is: {rvalue}\")\n",
    "plt.show()"
   ]
  },
  {
   "cell_type": "code",
   "execution_count": null,
   "metadata": {},
   "outputs": [],
   "source": [
    "# Aqui va como x \"holgura\" (que es economic slack) y la tasa de interés (no el diferencial)\n",
    "\n",
    "title = \"Economic slack counts vs. Interest Rate Regression\"\n",
    "x = final_data[\"holgura\"]*-1\n",
    "y = final_data[\"Tasa de Interés\"]\n",
    "(slope, intercept, rvalue, pvalue, stderr) = linregress(x, y)\n",
    "regress_values = x * slope + intercept\n",
    "line_eq = \"y = \" + str(round(slope,2)) + \"x + \" + str(round(intercept,2))\n",
    "plt.scatter(x,y)\n",
    "plt.plot(x,regress_values,\"r-\")\n",
    "plt.annotate(line_eq,(2,7.7),fontsize=15,color=\"red\")\n",
    "plt.title(title)\n",
    "plt.xlabel('Economic slack counts')\n",
    "plt.ylabel(\"Interest Rate (%)\")\n",
    "plt.savefig(f\"{title}.png\")\n",
    "print(f\"The r-squared is: {rvalue}\")\n",
    "plt.show()"
   ]
  },
  {
   "cell_type": "code",
   "execution_count": null,
   "metadata": {},
   "outputs": [],
   "source": [
    "# Aqui va como x el \"index\" y la tasa de interés (no el diferencial)\n",
    "\n",
    "title = \"Aggregate Concern Index vs. Interest Rate\"\n",
    "x = final_data[\"Indice Agregado\"]\n",
    "y = final_data[\"Tasa de Interés\"]\n",
    "(slope, intercept, rvalue, pvalue, stderr) = linregress(x, y)\n",
    "regress_values = x * slope + intercept\n",
    "line_eq = \"y = \" + str(round(slope,2)) + \"x + \" + str(round(intercept,2))\n",
    "plt.scatter(x,y)\n",
    "plt.plot(x,regress_values,\"r-\")\n",
    "plt.annotate(line_eq,(15,7.7),fontsize=15,color=\"red\")\n",
    "plt.title(title)\n",
    "plt.xlabel('Index (higher = more concern)')\n",
    "plt.ylabel(\"Interest Rate (%)\")\n",
    "plt.savefig(f\"{title}.png\")\n",
    "print(f\"The r-squared is: {rvalue}\")\n",
    "plt.show()"
   ]
  },
  {
   "cell_type": "code",
   "execution_count": null,
   "metadata": {},
   "outputs": [],
   "source": []
  }
 ],
 "metadata": {
  "kernelspec": {
   "display_name": "Python 3",
   "language": "python",
   "name": "python3"
  },
  "language_info": {
   "codemirror_mode": {
    "name": "ipython",
    "version": 3
   },
   "file_extension": ".py",
   "mimetype": "text/x-python",
   "name": "python",
   "nbconvert_exporter": "python",
   "pygments_lexer": "ipython3",
   "version": "3.8.2"
  }
 },
 "nbformat": 4,
 "nbformat_minor": 4
}
