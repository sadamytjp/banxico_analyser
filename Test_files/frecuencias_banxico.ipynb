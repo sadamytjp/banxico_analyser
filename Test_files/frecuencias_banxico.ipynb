{
 "cells": [
  {
   "cell_type": "code",
   "execution_count": 11,
   "metadata": {},
   "outputs": [],
   "source": [
    "import os\n",
    "import csv\n",
    "import pandas as pd"
   ]
  },
  {
   "cell_type": "code",
   "execution_count": 12,
   "metadata": {},
   "outputs": [],
   "source": [
    "lista_archivos = []\n",
    "lista_palabras = []"
   ]
  },
  {
   "cell_type": "code",
   "execution_count": 19,
   "metadata": {},
   "outputs": [
    {
     "name": "stdout",
     "output_type": "stream",
     "text": [
      "[]\n",
      "[]\n"
     ]
    }
   ],
   "source": [
    "for root, dirs, files in os.walk(\"count.txt\"):\n",
    "  for filename in files:\n",
    "    csvpath = os.path.join ('', 'count.txt', filename)\n",
    "    with open (csvpath) as csvfile:\n",
    "      csvreader = csv.reader (csvfile, delimiter = '\\t')\n",
    "      for row in csvreader:\n",
    "        if (row [0] not in lista_palabras):\n",
    "          lista_palabras.append(row[0])\n",
    "\n",
    "    lista_archivos.append(filename[:-4])\n",
    "print(lista_archivos)\n",
    "print(lista_palabras)"
   ]
  },
  {
   "cell_type": "code",
   "execution_count": 20,
   "metadata": {},
   "outputs": [],
   "source": [
    "datos = []\n"
   ]
  },
  {
   "cell_type": "code",
   "execution_count": null,
   "metadata": {},
   "outputs": [],
   "source": []
  },
  {
   "cell_type": "code",
   "execution_count": 15,
   "metadata": {},
   "outputs": [],
   "source": [
    "for root,dirs,files in os.walk (\"txt_banco\"):\n",
    "    for filename in files:\n",
    "        empty_list = [0,0,0,0,0,0,0,0,0,0,0,0,0]\n",
    "        csvpath = os.path.join ('', 'txt_banco', filename)\n",
    "        with open (csvpath) as csvfile:\n",
    "            csvreader = csv.reader (csvfile,delimiter='\\t')\n",
    "            for row in csvreader:\n",
    "                if (row[0] =='apreciacion'):\n",
    "                    empty_list[0]= row[1]\n",
    "                elif (row[0] =='aumentar'):\n",
    "                    empty_list[1]= row[1]\n",
    "                elif (row[0] =='crecimiento'):\n",
    "                    empty_list[2]= row[1]\n",
    "                elif(row[0] =='depreciacion'):\n",
    "                    empty_list[3]= row[1]\n",
    "                elif(row[0] =='deterioro'):\n",
    "                    empty_list[4]= row[1]\n",
    "                elif(row[0] =='disminuir'):\n",
    "                    empty_list[5]= row[1]\n",
    "                elif(row[0] =='estable'):\n",
    "                    empty_list[6]= row[1]\n",
    "                elif(row[0] =='holgura'):\n",
    "                    empty_list[7]= row[1]\n",
    "                elif(row[0] =='inflacion'):\n",
    "                    empty_list[8]= row[1]\n",
    "                elif(row[0] =='lasitud'):\n",
    "                    empty_list[9]= row[1]\n",
    "                elif(row[0] =='mantener'):\n",
    "                    empty_list[10]= row[1]\n",
    "                elif(row[0] =='moneda'):\n",
    "                    empty_list[11]= row[1]\n",
    "                elif(row[0] =='volatilidad'):\n",
    "                    empty_list[12]= row[1]\n",
    "        datos.append (empty_list)\n",
    "                    "
   ]
  },
  {
   "cell_type": "code",
   "execution_count": 16,
   "metadata": {},
   "outputs": [
    {
     "name": "stdout",
     "output_type": "stream",
     "text": [
      "[]\n"
     ]
    }
   ],
   "source": [
    "print (datos)"
   ]
  },
  {
   "cell_type": "code",
   "execution_count": 17,
   "metadata": {},
   "outputs": [
    {
     "data": {
      "text/html": [
       "<div>\n",
       "<style scoped>\n",
       "    .dataframe tbody tr th:only-of-type {\n",
       "        vertical-align: middle;\n",
       "    }\n",
       "\n",
       "    .dataframe tbody tr th {\n",
       "        vertical-align: top;\n",
       "    }\n",
       "\n",
       "    .dataframe thead th {\n",
       "        text-align: right;\n",
       "    }\n",
       "</style>\n",
       "<table border=\"1\" class=\"dataframe\">\n",
       "  <thead>\n",
       "    <tr style=\"text-align: right;\">\n",
       "      <th></th>\n",
       "    </tr>\n",
       "  </thead>\n",
       "  <tbody>\n",
       "  </tbody>\n",
       "</table>\n",
       "</div>"
      ],
      "text/plain": [
       "Empty DataFrame\n",
       "Columns: []\n",
       "Index: []"
      ]
     },
     "execution_count": 17,
     "metadata": {},
     "output_type": "execute_result"
    }
   ],
   "source": [
    "df = pd.DataFrame (index=lista_archivos, data=datos, columns=lista_palabras)\n",
    "df"
   ]
  },
  {
   "cell_type": "code",
   "execution_count": 18,
   "metadata": {},
   "outputs": [],
   "source": [
    "df.to_csv(\"frecuencias_banxico.csv\", index=True, header=True)"
   ]
  },
  {
   "cell_type": "code",
   "execution_count": null,
   "metadata": {},
   "outputs": [],
   "source": []
  }
 ],
 "metadata": {
  "kernelspec": {
   "display_name": "Python 3",
   "language": "python",
   "name": "python3"
  },
  "language_info": {
   "codemirror_mode": {
    "name": "ipython",
    "version": 3
   },
   "file_extension": ".py",
   "mimetype": "text/x-python",
   "name": "python",
   "nbconvert_exporter": "python",
   "pygments_lexer": "ipython3",
   "version": "3.8.2"
  }
 },
 "nbformat": 4,
 "nbformat_minor": 2
}
