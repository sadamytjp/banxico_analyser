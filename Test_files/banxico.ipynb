{
 "cells": [
  {
   "cell_type": "code",
   "execution_count": 1,
   "metadata": {},
   "outputs": [],
   "source": [
    "import requests\n",
    "import pandas as pd\n",
    "import numpy as np"
   ]
  },
  {
   "cell_type": "code",
   "execution_count": 2,
   "metadata": {},
   "outputs": [],
   "source": [
    "#API Banxico\n",
    "banxico_key = \"85c8edeab72128102cdad764f0a2d4532c336d22690a51104b500fb6f077ed4c\""
   ]
  },
  {
   "cell_type": "code",
   "execution_count": 3,
   "metadata": {},
   "outputs": [],
   "source": [
    "url = \"https://www.banxico.org.mx/SieAPIRest/service/v1/series/\""
   ]
  },
  {
   "cell_type": "code",
   "execution_count": 8,
   "metadata": {},
   "outputs": [],
   "source": [
    "#Series\n",
    "# amount of auction SF295380\n",
    "total_auction = 'SP30578'\n",
    "# assigned SF295380\n",
    "assigned_auction = \"SF295380\""
   ]
  },
  {
   "cell_type": "code",
   "execution_count": 9,
   "metadata": {},
   "outputs": [],
   "source": [
    "#Fechas AAAA-MM-dd\n",
    "#fecha_inicial = input(print(\"Fecha inicial consulta AAAA-MM-dd\"))\n",
    "start_date = \"2008-01-01\"\n",
    "end_date = \"2020-12-31\"\n",
    "#fecha_final = input(print(\"Fecha final consulta AAAA-MM-dd\"))"
   ]
  },
  {
   "cell_type": "code",
   "execution_count": 11,
   "metadata": {},
   "outputs": [
    {
     "data": {
      "text/html": [
       "<div>\n",
       "<style scoped>\n",
       "    .dataframe tbody tr th:only-of-type {\n",
       "        vertical-align: middle;\n",
       "    }\n",
       "\n",
       "    .dataframe tbody tr th {\n",
       "        vertical-align: top;\n",
       "    }\n",
       "\n",
       "    .dataframe thead th {\n",
       "        text-align: right;\n",
       "    }\n",
       "</style>\n",
       "<table border=\"1\" class=\"dataframe\">\n",
       "  <thead>\n",
       "    <tr style=\"text-align: right;\">\n",
       "      <th></th>\n",
       "      <th>assigned</th>\n",
       "      <th>date</th>\n",
       "    </tr>\n",
       "  </thead>\n",
       "  <tbody>\n",
       "    <tr>\n",
       "      <th>0</th>\n",
       "      <td>3.70000000</td>\n",
       "      <td>01/01/2008</td>\n",
       "    </tr>\n",
       "    <tr>\n",
       "      <th>1</th>\n",
       "      <td>3.72000000</td>\n",
       "      <td>01/02/2008</td>\n",
       "    </tr>\n",
       "    <tr>\n",
       "      <th>2</th>\n",
       "      <td>4.25000000</td>\n",
       "      <td>01/03/2008</td>\n",
       "    </tr>\n",
       "    <tr>\n",
       "      <th>3</th>\n",
       "      <td>4.55000000</td>\n",
       "      <td>01/04/2008</td>\n",
       "    </tr>\n",
       "    <tr>\n",
       "      <th>4</th>\n",
       "      <td>4.95000000</td>\n",
       "      <td>01/05/2008</td>\n",
       "    </tr>\n",
       "    <tr>\n",
       "      <th>5</th>\n",
       "      <td>5.26000000</td>\n",
       "      <td>01/06/2008</td>\n",
       "    </tr>\n",
       "    <tr>\n",
       "      <th>6</th>\n",
       "      <td>5.39000000</td>\n",
       "      <td>01/07/2008</td>\n",
       "    </tr>\n",
       "    <tr>\n",
       "      <th>7</th>\n",
       "      <td>5.57000000</td>\n",
       "      <td>01/08/2008</td>\n",
       "    </tr>\n",
       "    <tr>\n",
       "      <th>8</th>\n",
       "      <td>5.47000000</td>\n",
       "      <td>01/09/2008</td>\n",
       "    </tr>\n",
       "    <tr>\n",
       "      <th>9</th>\n",
       "      <td>5.78000000</td>\n",
       "      <td>01/10/2008</td>\n",
       "    </tr>\n",
       "    <tr>\n",
       "      <th>10</th>\n",
       "      <td>6.23000000</td>\n",
       "      <td>01/11/2008</td>\n",
       "    </tr>\n",
       "    <tr>\n",
       "      <th>11</th>\n",
       "      <td>6.53000000</td>\n",
       "      <td>01/12/2008</td>\n",
       "    </tr>\n",
       "    <tr>\n",
       "      <th>12</th>\n",
       "      <td>6.28000000</td>\n",
       "      <td>01/01/2009</td>\n",
       "    </tr>\n",
       "    <tr>\n",
       "      <th>13</th>\n",
       "      <td>6.20000000</td>\n",
       "      <td>01/02/2009</td>\n",
       "    </tr>\n",
       "    <tr>\n",
       "      <th>14</th>\n",
       "      <td>6.04000000</td>\n",
       "      <td>01/03/2009</td>\n",
       "    </tr>\n",
       "    <tr>\n",
       "      <th>15</th>\n",
       "      <td>6.17000000</td>\n",
       "      <td>01/04/2009</td>\n",
       "    </tr>\n",
       "    <tr>\n",
       "      <th>16</th>\n",
       "      <td>5.98000000</td>\n",
       "      <td>01/05/2009</td>\n",
       "    </tr>\n",
       "    <tr>\n",
       "      <th>17</th>\n",
       "      <td>5.74000000</td>\n",
       "      <td>01/06/2009</td>\n",
       "    </tr>\n",
       "    <tr>\n",
       "      <th>18</th>\n",
       "      <td>5.44000000</td>\n",
       "      <td>01/07/2009</td>\n",
       "    </tr>\n",
       "    <tr>\n",
       "      <th>19</th>\n",
       "      <td>5.08000000</td>\n",
       "      <td>01/08/2009</td>\n",
       "    </tr>\n",
       "  </tbody>\n",
       "</table>\n",
       "</div>"
      ],
      "text/plain": [
       "      assigned        date\n",
       "0   3.70000000  01/01/2008\n",
       "1   3.72000000  01/02/2008\n",
       "2   4.25000000  01/03/2008\n",
       "3   4.55000000  01/04/2008\n",
       "4   4.95000000  01/05/2008\n",
       "5   5.26000000  01/06/2008\n",
       "6   5.39000000  01/07/2008\n",
       "7   5.57000000  01/08/2008\n",
       "8   5.47000000  01/09/2008\n",
       "9   5.78000000  01/10/2008\n",
       "10  6.23000000  01/11/2008\n",
       "11  6.53000000  01/12/2008\n",
       "12  6.28000000  01/01/2009\n",
       "13  6.20000000  01/02/2009\n",
       "14  6.04000000  01/03/2009\n",
       "15  6.17000000  01/04/2009\n",
       "16  5.98000000  01/05/2009\n",
       "17  5.74000000  01/06/2009\n",
       "18  5.44000000  01/07/2009\n",
       "19  5.08000000  01/08/2009"
      ]
     },
     "execution_count": 11,
     "metadata": {},
     "output_type": "execute_result"
    }
   ],
   "source": [
    "#Total Data\n",
    "total_query_url = f\"{url}{total_auction}/datos/{start_date}/{end_date}?token={banxico_key}\"\n",
    "total_data = requests.get(total_query_url).json()\n",
    "data_total = total_data['bmx']['series'][0]['datos']\n",
    "data_total_df = pd.DataFrame(data_total)\n",
    "data_total_df.rename(columns = {'fecha' : 'date', 'dato':'assigned'}, inplace = True)\n",
    "#data_asignado_df.set_index('id', inplace = True)\n",
    "data_total_df.head(20)\n"
   ]
  },
  {
   "cell_type": "code",
   "execution_count": null,
   "metadata": {},
   "outputs": [],
   "source": []
  },
  {
   "cell_type": "code",
   "execution_count": null,
   "metadata": {},
   "outputs": [],
   "source": []
  },
  {
   "cell_type": "code",
   "execution_count": 12,
   "metadata": {},
   "outputs": [],
   "source": [
    "final_dates = ['2020-05-14', '2020-04-21', '2020-03-20', '2020-02-13', '2019-12-19', '2019-11-14', '2019-09-26', '2019-08-15', '2019-06-27', '2019-05-16', '2019-03-28', '2019-02-07', '2018-12-20', '2018-11-15', '2018-10-04', '2018-08-02', '2018-06-21', '2018-05-17', '2018-04-12', '2018-02-08', '2017-12-14', '2017-11-09', '2017-09-28', '2017-08-10', '2017-06-22', '2017-05-18', '2017-03-30', '2017-02-09', '2016-12-15', '2016-11-17', '2016-09-29', '2016-08-11', '2016-06-30', '2016-05-05', '2016-03-18', '2016-02-17', '2016-02-04', '2015-12-17', '2015-10-29', '2015-09-21', '2015-07-30', '2015-06-04', '2015-04-30', '2015-03-26', '2015-01-29', '2014-12-05', '2014-10-31', '2014-09-05', '2014-07-11', '2014-06-06', '2014-04-25', '2014-03-21', '2014-01-31', '2013-12-06', '2013-10-25', '2013-09-06', '2013-07-12', '2013-06-07', '2013-04-26', '2013-03-08', '2013-01-18', '2012-11-30', '2012-10-26', '2012-09-07', '2012-07-20', '2012-06-08', '2012-04-27', '2012-03-16', '2012-01-20', '2011-12-02', '2011-10-14', '2011-08-26', '2011-07-08', '2011-05-27', '2011-04-15', '2011-03-04', '2011-01-21', '2010-11-26', '2010-10-15', '2010-09-24', '2010-08-20', '2010-07-16', '2010-06-18', '2010-05-21', '2010-04-16', '2010-03-19', '2010-02-19', '2010-01-15', '2009-11-27', '2009-10-16', '2009-09-18', '2009-08-21', '2009-07-17', '2009-06-19', '2009-05-15', '2009-04-17', '2009-03-20', '2009-02-20', '2009-01-16', '2008-11-28', '2008-10-17', '2008-09-19', '2008-08-15', '2008-07-18', '2008-06-20', '2008-05-16', '2008-04-18', '2008-03-14', '2008-02-15', '2008-01-18']"
   ]
  },
  {
   "cell_type": "code",
   "execution_count": null,
   "metadata": {},
   "outputs": [],
   "source": []
  },
  {
   "cell_type": "code",
   "execution_count": null,
   "metadata": {},
   "outputs": [],
   "source": []
  },
  {
   "cell_type": "code",
   "execution_count": null,
   "metadata": {},
   "outputs": [],
   "source": []
  },
  {
   "cell_type": "code",
   "execution_count": null,
   "metadata": {},
   "outputs": [],
   "source": []
  }
 ],
 "metadata": {
  "kernelspec": {
   "display_name": "Python 3",
   "language": "python",
   "name": "python3"
  },
  "language_info": {
   "codemirror_mode": {
    "name": "ipython",
    "version": 3
   },
   "file_extension": ".py",
   "mimetype": "text/x-python",
   "name": "python",
   "nbconvert_exporter": "python",
   "pygments_lexer": "ipython3",
   "version": "3.6.5"
  }
 },
 "nbformat": 4,
 "nbformat_minor": 2
}
