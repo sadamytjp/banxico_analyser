{
 "cells": [
  {
   "cell_type": "code",
   "execution_count": 1,
   "metadata": {},
   "outputs": [],
   "source": [
    "import pandas as pd\n",
    "import datetime\n",
    "import requests\n",
    "import tabula\n",
    "import io\n",
    "import os\n",
    "import sys\n",
    "import glob\n",
    "\n",
    "#URLlib\n",
    "import urllib\n",
    "import urllib.request\n",
    "\n",
    "#PDFminer\n",
    "import pdfminer\n",
    "from pdfminer.pdfpage import PDFPage\n",
    "from pdfminer.pdfparser import PDFParser\n",
    "from pdfminer.pdfdocument import PDFDocument\n",
    "from pdfminer.pdfinterp import PDFResourceManager, PDFPageInterpreter\n",
    "from pdfminer.layout import LAParams\n",
    "from pdfminer.converter import TextConverter\n",
    "from io import StringIO\n",
    "from pdfminer.converter import PDFPageAggregator\n",
    "from pdfminer.layout import LTTextBoxHorizontal\n",
    "\n",
    "\n",
    "from subprocess import Popen, PIPE"
   ]
  },
  {
   "cell_type": "code",
   "execution_count": null,
   "metadata": {},
   "outputs": [],
   "source": [
    "#PDF's to TXT"
   ]
  },
  {
   "cell_type": "code",
   "execution_count": null,
   "metadata": {},
   "outputs": [],
   "source": [
    "for one_pdf in os.listdir(\"AA_banxico_pdfs/\"):\n",
    "    try: \n",
    "        rsrcmgr = PDFResourceManager()\n",
    "        retstr = io.StringIO()\n",
    "        codec = 'utf - 8'\n",
    "        #laparams = LAParams() - agrego las dos lineas de abajo, codec=codec y cambio de caching=caching a =True\n",
    "        laparams = pdfminer.layout.LAParams()\n",
    "        setattr(laparams, 'all_texts', True)\n",
    "        device = TextConverter(rsrcmgr, retstr, codec=codec, laparams=laparams)\n",
    "        interpreter = PDFPageInterpreter(rsrcmgr, device)\n",
    "        password = \"\"\n",
    "        maxpages = 0\n",
    "        caching = True\n",
    "        pagenos = set()\n",
    "        print(\"Processing file: \" + str(one_pdf))\n",
    "        fp = open(\"AA_banxico_pdfs/\" + one_pdf, 'rb')\n",
    "        for page in PDFPage.get_pages(fp, pagenums, maxpages=maxpages, password=password, caching=True, check_extractable=True):\n",
    "            interpreter.process_page(page)\n",
    "            text = retstr.getvalue().replace('\\n', ' ')\n",
    "            filenameString = str(one_pdf) + \".txt\"\n",
    "            text_file = open(\"banxico_txts/\" + filenameString, \"w\")\n",
    "            text_file.write(text)\n",
    "            text_file.close()\n",
    "            fp.close()\n",
    "        device.close()\n",
    "        retstr.close()\n",
    "    except: \n",
    "        print(\"failed\" + str(one_pdf))"
   ]
  },
  {
   "cell_type": "code",
   "execution_count": null,
   "metadata": {},
   "outputs": [],
   "source": [
    "rsrcmgr = PDFResourceManager()\n",
    "retstr = io.StringIO()\n",
    "codec = 'utf - 8'\n",
    "laparams = LAParams()\n",
    "device = TextConverter(rsrcmgr, retstr, laparams=laparams)\n",
    "interpreter = PDFPageInterpreter(rsrcmgr, device)\n",
    "\n",
    "password = \"\"\n",
    "maxpages = 0\n",
    "caching = True\n",
    "pagenos = set()\n",
    "\n",
    "fp = open(\"banxico_pdfs/250507.pdf\", 'rb')\n",
    "for page in PDFPage.get_pages(fp, pagenos, maxpages=maxpages, password=password, caching=caching, check_extractable=True):\n",
    "    interpreter.process_page(page)\n",
    "text = retstr.getvalue().replace('\\n', ' ')\n",
    "filenameString = \"250507.pdf.txt\"\n",
    "text_file = open(\"banxico_txts/\" + filenameString, \"w\")\n",
    "text_file.write(text)\n",
    "text_file.close()\n",
    "fp.close()\n",
    "\n",
    "device.close()\n",
    "retstr.close()"
   ]
  },
  {
   "cell_type": "code",
   "execution_count": null,
   "metadata": {},
   "outputs": [],
   "source": [
    "rsrcmgr = PDFResourceManager()\n",
    "retstr = io.StringIO()\n",
    "codec = 'utf - 8'\n",
    "laparams = LAParams()\n",
    "device = TextConverter(rsrcmgr, retstr, laparams=laparams)\n",
    "interpreter = PDFPageInterpreter(rsrcmgr, device)\n",
    "\n",
    "password = \"\"\n",
    "maxpages = 0\n",
    "caching = True\n",
    "pagenos = set()\n",
    "fp = open(\"banxico_pdfs/051214.pdf\", 'rb')\n",
    "\n",
    "for page in PDFPage.get_pages(fp, pagenos, maxpages=maxpages, password=password, caching=caching, check_extractable=True):\n",
    "    interpreter.process_page(page)\n",
    "    text = retstr.getvalue().replace('\\n', ' ')\n",
    "    filenameString = \"051214.pdf.txt\"\n",
    "    text_file = open(\"banxico_txts/\" + filenameString, \"w\")\n",
    "    text_file.write(text)\n",
    "    text_file.close()\n",
    "    fp.close()\n",
    "\n",
    "device.close()\n",
    "retstr.close()"
   ]
  },
  {
   "cell_type": "code",
   "execution_count": null,
   "metadata": {},
   "outputs": [],
   "source": [
    "# read all txt"
   ]
  },
  {
   "cell_type": "code",
   "execution_count": null,
   "metadata": {},
   "outputs": [],
   "source": [
    "StmntDF = pd.DataFrame(columns=['statement', 'policy_rate'])\n",
    "StmntDF"
   ]
  },
  {
   "cell_type": "code",
   "execution_count": null,
   "metadata": {},
   "outputs": [],
   "source": [
    "a=open('banxico_txts/051214.pdf.txt').read()\n",
    "StmntDF.at[1, 'statement'] = a\n",
    "StmntDF"
   ]
  },
  {
   "cell_type": "code",
   "execution_count": null,
   "metadata": {},
   "outputs": [],
   "source": [
    "#txt into a DF"
   ]
  },
  {
   "cell_type": "code",
   "execution_count": null,
   "metadata": {},
   "outputs": [],
   "source": [
    "#1\n",
    "df = pd.read_csv(\"banxico_txts/051214.pdf.txt\")\n",
    "print(df)\n",
    "\n",
    "#2\n",
    "with open('banxico_txts/051214.pdf.txt', 'r') as myfile:\n",
    "  data = myfile.read()\n",
    "print(data)\n",
    "\n",
    "#3 (creo es mejor - string no?)\n",
    "a=open('banxico_txts/051214.pdf.txt').read()\n",
    "print(a)"
   ]
  },
  {
   "cell_type": "code",
   "execution_count": null,
   "metadata": {},
   "outputs": [],
   "source": [
    "a=open('banxico_txts/020818.pdf.txt').read()\n",
    "print(a)"
   ]
  },
  {
   "cell_type": "code",
   "execution_count": null,
   "metadata": {},
   "outputs": [],
   "source": []
  },
  {
   "cell_type": "code",
   "execution_count": 4,
   "metadata": {},
   "outputs": [
    {
     "ename": "SyntaxError",
     "evalue": "'return' outside function (<ipython-input-4-f0dca274e197>, line 39)",
     "output_type": "error",
     "traceback": [
      "\u001b[0;36m  File \u001b[0;32m\"<ipython-input-4-f0dca274e197>\"\u001b[0;36m, line \u001b[0;32m39\u001b[0m\n\u001b[0;31m    return text\u001b[0m\n\u001b[0m    ^\u001b[0m\n\u001b[0;31mSyntaxError\u001b[0m\u001b[0;31m:\u001b[0m 'return' outside function\n"
     ]
    }
   ],
   "source": [
    "for one_pdf in os.listdir(\"AA_banxico_pdfs/\"):\n",
    "    \n",
    "    def convert(fname, pages=None):\n",
    "        if not pages:\n",
    "            pagenums = set()\n",
    "        else:\n",
    "            pagenums = set(pages)\n",
    "\n",
    "    try: \n",
    "        retstr = io.StringIO()\n",
    "        rsrcmgr = PDFResourceManager()\n",
    "        #codec = 'utf - 8'\n",
    "        #laparams = LAParams() - agrego las dos lineas de abajo, codec=codec y cambio de caching=caching a =True\n",
    "        laparams = LAParams()\n",
    "        #setattr(laparams, 'all_texts', True)\n",
    "        device = TextConverter(rsrcmgr, retstr, laparams=laparams)\n",
    "        interpreter = PDFPageInterpreter(rsrcmgr, device)\n",
    "        #password = \"\"\n",
    "        #maxpages = 0\n",
    "        #caching = True\n",
    "        #pagenos = set()\n",
    "        print(\"Processing file: \" + str(one_pdf))\n",
    "        fp = open(\"AA_banxico_pdfs/\" + one_pdf, 'rb')\n",
    "        for page in PDFPage.get_pages(fp, pagenums):\n",
    "            interpreter.process_page(page)\n",
    "            #text = retstr.getvalue().replace('\\n', ' ')\n",
    "            #filenameString = str(one_pdf) + \".txt\"\n",
    "            #text_file = open(\"banxico_txts/\" + filenameString, \"w\")\n",
    "            #text_file.write(text)\n",
    "            #text_file.close()\n",
    "        fp.close()\n",
    "        device.close()\n",
    "        text = retstr.getvalue().replace('\\n', ' ')\n",
    "        retstr.close()\n",
    "        \n",
    "        outfile = os.path.splitext(os.path.abspath(\"AA_banxico_pdfs/\" + one_pdf,))[0] + '.txt'\n",
    "        with open(outfile, 'wb') as pdf_file:\n",
    "            pdf_file.write(text)\n",
    "        return text\n",
    "                           \n",
    "    except: \n",
    "        print(\"failed\" + str(one_pdf))\n",
    "        \n",
    "    directory = glob.glob('D:\\Reports\\*.pdf')  \n",
    "\n",
    "for myfiles in directory:  \n",
    "     convert(myfiles)\n"
   ]
  },
  {
   "cell_type": "code",
   "execution_count": null,
   "metadata": {},
   "outputs": [],
   "source": []
  }
 ],
 "metadata": {
  "kernelspec": {
   "display_name": "Python 3",
   "language": "python",
   "name": "python3"
  },
  "language_info": {
   "codemirror_mode": {
    "name": "ipython",
    "version": 3
   },
   "file_extension": ".py",
   "mimetype": "text/x-python",
   "name": "python",
   "nbconvert_exporter": "python",
   "pygments_lexer": "ipython3",
   "version": "3.7.5"
  }
 },
 "nbformat": 4,
 "nbformat_minor": 2
}
