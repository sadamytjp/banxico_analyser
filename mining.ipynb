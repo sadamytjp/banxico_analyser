{
 "cells": [
  {
   "cell_type": "code",
   "execution_count": 1,
   "metadata": {},
   "outputs": [],
   "source": [
    "#Import Dependencies\n",
    "%matplotlib inline\n",
    "import os\n",
    "from bs4 import BeautifulSoup as bs\n",
    "import requests\n",
    "import pandas as pd\n",
    "from splinter import Browser\n",
    "from splinter.exceptions import ElementDoesNotExist\n",
    "import json\n",
    "from pprint import pprint\n",
    "from datetime import datetime\n",
    "from datetime import timedelta \n",
    "import time\n",
    "import matplotlib.pyplot as plt"
   ]
  },
  {
   "cell_type": "code",
   "execution_count": 2,
   "metadata": {},
   "outputs": [
    {
     "name": "stdout",
     "output_type": "stream",
     "text": [
      "2020-06-05\n"
     ]
    }
   ],
   "source": [
    "#Variables\n",
    "initial_date = datetime(2008, 1, 1) \n",
    "end_date = (datetime.today() - timedelta(days = 1)).date()\n",
    "print(end_date)"
   ]
  },
  {
   "cell_type": "code",
   "execution_count": 3,
   "metadata": {},
   "outputs": [],
   "source": [
    "executable_path = {'executable_path': 'C:/Users/joaqu/OneDrive/Curso/Proy_final/chromedriver.exe'}\n",
    "browser = Browser('chrome', **executable_path)"
   ]
  },
  {
   "cell_type": "code",
   "execution_count": 4,
   "metadata": {},
   "outputs": [],
   "source": [
    "#Banxico URL\n",
    "url = 'https://www.banxico.org.mx/publicaciones-y-prensa/anuncios-de-las-decisiones-de-politica-monetaria/anuncios-politica-monetaria-t.html'\n",
    "browser.visit(url)\n",
    "api_url = \"https://www.banxico.org.mx/SieAPIRest/service/v1/series/\"\n",
    "banxico_key = \"85c8edeab72128102cdad764f0a2d4532c336d22690a51104b500fb6f077ed4c\""
   ]
  },
  {
   "cell_type": "code",
   "execution_count": 5,
   "metadata": {},
   "outputs": [],
   "source": [
    "html = browser.html\n",
    "soup = bs(html, 'html.parser')"
   ]
  },
  {
   "cell_type": "code",
   "execution_count": 6,
   "metadata": {
    "scrolled": false
   },
   "outputs": [],
   "source": [
    "links = []\n",
    "for link in soup.find_all('a'):\n",
    "    if ('/publicaciones-y-prensa/anuncios-de-las-decisiones-de-politica-monetaria') in link.get('href'):\n",
    "        partial_link = link.get('href')\n",
    "        links.append('http://www.banxico.org.mx' + partial_link)\n",
    "links = links[1:]\n",
    "#links"
   ]
  },
  {
   "cell_type": "code",
   "execution_count": 7,
   "metadata": {},
   "outputs": [],
   "source": [
    "dates = []\n",
    "for date in soup.find_all(\"td\"):\n",
    "    data = date.get_text()\n",
    "    dates.append(data)\n",
    "del dates[1::2]"
   ]
  },
  {
   "cell_type": "code",
   "execution_count": 8,
   "metadata": {
    "scrolled": false
   },
   "outputs": [],
   "source": [
    "import re\n",
    "dates2 = []\n",
    "for index in range(len(dates)):\n",
    "    dates2.append(re.sub(\"\\s\", \"\", dates[index])) \n"
   ]
  },
  {
   "cell_type": "code",
   "execution_count": 9,
   "metadata": {
    "scrolled": true
   },
   "outputs": [],
   "source": [
    "dates3 = []\n",
    "for index in range(len(dates)):\n",
    "    dates3.append(re.sub(\"[\\/]\", \"\", dates2[index])) \n",
    "#print(dates3)"
   ]
  },
  {
   "cell_type": "code",
   "execution_count": 10,
   "metadata": {
    "scrolled": true
   },
   "outputs": [],
   "source": [
    "#name_counter = 0\n",
    "#for i in links:\n",
    "    #r = requests.get(i)\n",
    "   # out_file = open(f'{dates3[name_counter]}.pdf', 'wb')\n",
    "    #out_file.write(r.content)\n",
    "   # name_counter += 1"
   ]
  },
  {
   "cell_type": "code",
   "execution_count": 11,
   "metadata": {},
   "outputs": [],
   "source": [
    "final_dates = []\n",
    "for date in dates2:\n",
    "    dates = datetime.strptime(date, \"%d/%m/%y\")\n",
    "    if dates > initial_date:\n",
    "        final_dates.append(datetime.strftime(dates, \"%Y-%m-%d\"))\n",
    "final_dates.append(datetime.strftime(end_date, \"%Y-%m-%d\"))"
   ]
  },
  {
   "cell_type": "code",
   "execution_count": 12,
   "metadata": {},
   "outputs": [],
   "source": [
    "#MXN Lvl\n",
    "Series = \"SF43788\"\n",
    "\n",
    "fxt = []\n",
    "for fecha in final_dates:\n",
    "    url_consulta = [f\"{api_url}{Series}/datos/{fecha}/{fecha}?token={banxico_key}\"]\n",
    "    for query in url_consulta: \n",
    "        data = requests.get(query).json()\n",
    "        fxt.append(data[\"bmx\"][\"series\"][0][\"datos\"][0][\"dato\"])\n",
    "time.sleep(60) #tiempo del API"
   ]
  },
  {
   "cell_type": "code",
   "execution_count": null,
   "metadata": {},
   "outputs": [],
   "source": [
    "Series = \"SF43878\"\n",
    "\n",
    "tasa = []\n",
    "for fecha in final_dates:\n",
    "    try:\n",
    "        url_consulta = [f\"{api_url}{Series}/datos/{fecha}/{fecha}?token={banxico_key}\"]\n",
    "        for query in url_consulta: \n",
    "            data = requests.get(query).json()\n",
    "            tasa.append(data[\"bmx\"][\"series\"][0][\"datos\"][0][\"dato\"])\n",
    "    except:\n",
    "        tasa.append(0)\n",
    "time.sleep(60) #tiempo del API   \n",
    "    \n",
    "        "
   ]
  },
  {
   "cell_type": "code",
   "execution_count": null,
   "metadata": {},
   "outputs": [],
   "source": [
    "Series = \"SP30578\"\n",
    "\n",
    "#Total Data\n",
    "total_query_url = f\"{api_url}{Series}/datos/{initial_date}/{end_date}?token={banxico_key}\"\n",
    "total_data = requests.get(total_query_url).json()\n",
    "inflacion = total_data['bmx']['series'][0]['datos']\n"
   ]
  },
  {
   "cell_type": "code",
   "execution_count": null,
   "metadata": {},
   "outputs": [],
   "source": [
    "#Match fechas\n"
   ]
  },
  {
   "cell_type": "code",
   "execution_count": null,
   "metadata": {},
   "outputs": [],
   "source": [
    "Banxico_dict = {\"MXN\": fxt,  \"Tasa\": tasa, \"Inflacion\": inflacion }\n",
    "                \n",
    "Banxico_data = pd.DataFrame(Banxico_dict)\n",
    "Banxico_data[\"Fecha\"] = final_dates\n",
    "Banxico_data = Banxico_data[['Fecha', 'MXN', \"Tasa\",\"Inflacion\"]]\n",
    "Banxico_data = Banxico_data.sort_values('Fecha')\n",
    "Banxico_data = Banxico_data[Banxico_data.Tasa != 0]\n",
    "Banxico_data = Banxico_data.reset_index(drop = True)"
   ]
  },
  {
   "cell_type": "code",
   "execution_count": null,
   "metadata": {},
   "outputs": [],
   "source": [
    "\n",
    "Banxico_data['Inflacion'] = 0\n",
    "#Banxico_data['Crecimiento'] = 0\n",
    "#Banxico_data['Desempleo'] = 0\n",
    "Banxico_data['Dif'] = 0\n",
    "Banxico_data['Tasa'] = Banxico_data['Tasa'].astype(float)\n",
    "Banxico_data"
   ]
  },
  {
   "cell_type": "code",
   "execution_count": null,
   "metadata": {},
   "outputs": [],
   "source": [
    "for i in range(1, len(Banxico_data) -1 ):\n",
    "    Banxico_data.loc[i, 'Dif'] = 25 * round((100 * (Banxico_data.loc[i, 'Tasa'] - Banxico_data.loc[i+1, 'Tasa']))/25)"
   ]
  },
  {
   "cell_type": "code",
   "execution_count": null,
   "metadata": {},
   "outputs": [],
   "source": [
    "Banxico_data"
   ]
  },
  {
   "cell_type": "code",
   "execution_count": null,
   "metadata": {},
   "outputs": [],
   "source": [
    "# Assign X (data) and y (target)\n",
    "X = Banxico_data.drop(\"Dif\", axis=1)\n",
    "y = Banxico_data[\"Dif\"]\n",
    "print(X.shape, y.shape)"
   ]
  },
  {
   "cell_type": "code",
   "execution_count": null,
   "metadata": {},
   "outputs": [],
   "source": [
    "from sklearn.model_selection import train_test_split\n",
    "\n",
    "X_train, X_test, y_train, y_test = train_test_split(X, y, random_state=1)"
   ]
  },
  {
   "cell_type": "code",
   "execution_count": null,
   "metadata": {},
   "outputs": [],
   "source": [
    "from sklearn.linear_model import LogisticRegression\n",
    "classifier = LogisticRegression()\n",
    "classifier"
   ]
  },
  {
   "cell_type": "code",
   "execution_count": null,
   "metadata": {},
   "outputs": [],
   "source": []
  },
  {
   "cell_type": "code",
   "execution_count": null,
   "metadata": {},
   "outputs": [],
   "source": [
    " classifier.fit(X_train, y_train)"
   ]
  },
  {
   "cell_type": "code",
   "execution_count": null,
   "metadata": {},
   "outputs": [],
   "source": []
  },
  {
   "cell_type": "code",
   "execution_count": null,
   "metadata": {},
   "outputs": [],
   "source": [
    "print(f\"Training Data Score: {classifier.score(X_train, y_train)}\")\n",
    "print(f\"Testing Data Score: {classifier.score(X_test, y_test)}\")"
   ]
  },
  {
   "cell_type": "code",
   "execution_count": null,
   "metadata": {},
   "outputs": [],
   "source": [
    "predictions = classifier.predict(X_test)\n",
    "print(f\"First 10 Predictions:   {predictions[:10]}\")\n",
    "print(f\"First 10 Actual labels: {y_test[:10].tolist()}\")"
   ]
  },
  {
   "cell_type": "code",
   "execution_count": null,
   "metadata": {},
   "outputs": [],
   "source": [
    "pd.DataFrame({\"Prediction\": predictions, \"Actual\": y_test}).reset_index(drop=True)"
   ]
  },
  {
   "cell_type": "code",
   "execution_count": null,
   "metadata": {},
   "outputs": [],
   "source": []
  }
 ],
 "metadata": {
  "kernelspec": {
   "display_name": "Python 3",
   "language": "python",
   "name": "python3"
  },
  "language_info": {
   "codemirror_mode": {
    "name": "ipython",
    "version": 3
   },
   "file_extension": ".py",
   "mimetype": "text/x-python",
   "name": "python",
   "nbconvert_exporter": "python",
   "pygments_lexer": "ipython3",
   "version": "3.7.4"
  }
 },
 "nbformat": 4,
 "nbformat_minor": 4
}
